{
 "cells": [
  {
   "cell_type": "code",
   "execution_count": 163,
   "metadata": {},
   "outputs": [],
   "source": [
    "import pandas as pd\n",
    "import numpy as np\n",
    "from itertools import combinations"
   ]
  },
  {
   "cell_type": "code",
   "execution_count": 64,
   "metadata": {},
   "outputs": [],
   "source": [
    "df = pd.read_csv('./Data/electronics.csv')"
   ]
  },
  {
   "cell_type": "code",
   "execution_count": 65,
   "metadata": {},
   "outputs": [
    {
     "data": {
      "text/html": [
       "<div>\n",
       "<style scoped>\n",
       "    .dataframe tbody tr th:only-of-type {\n",
       "        vertical-align: middle;\n",
       "    }\n",
       "\n",
       "    .dataframe tbody tr th {\n",
       "        vertical-align: top;\n",
       "    }\n",
       "\n",
       "    .dataframe thead th {\n",
       "        text-align: right;\n",
       "    }\n",
       "</style>\n",
       "<table border=\"1\" class=\"dataframe\">\n",
       "  <thead>\n",
       "    <tr style=\"text-align: right;\">\n",
       "      <th></th>\n",
       "      <th>age</th>\n",
       "      <th>income</th>\n",
       "      <th>student</th>\n",
       "      <th>credit_rating</th>\n",
       "      <th>isBuy</th>\n",
       "    </tr>\n",
       "  </thead>\n",
       "  <tbody>\n",
       "    <tr>\n",
       "      <th>0</th>\n",
       "      <td>youth</td>\n",
       "      <td>high</td>\n",
       "      <td>no</td>\n",
       "      <td>fair</td>\n",
       "      <td>no</td>\n",
       "    </tr>\n",
       "    <tr>\n",
       "      <th>1</th>\n",
       "      <td>youth</td>\n",
       "      <td>high</td>\n",
       "      <td>no</td>\n",
       "      <td>excellent</td>\n",
       "      <td>no</td>\n",
       "    </tr>\n",
       "    <tr>\n",
       "      <th>2</th>\n",
       "      <td>middle_aged</td>\n",
       "      <td>high</td>\n",
       "      <td>no</td>\n",
       "      <td>fair</td>\n",
       "      <td>yes</td>\n",
       "    </tr>\n",
       "    <tr>\n",
       "      <th>3</th>\n",
       "      <td>senior</td>\n",
       "      <td>medium</td>\n",
       "      <td>no</td>\n",
       "      <td>fair</td>\n",
       "      <td>yes</td>\n",
       "    </tr>\n",
       "    <tr>\n",
       "      <th>4</th>\n",
       "      <td>senior</td>\n",
       "      <td>low</td>\n",
       "      <td>yes</td>\n",
       "      <td>fair</td>\n",
       "      <td>yes</td>\n",
       "    </tr>\n",
       "  </tbody>\n",
       "</table>\n",
       "</div>"
      ],
      "text/plain": [
       "           age  income student credit_rating isBuy\n",
       "0        youth    high      no          fair    no\n",
       "1        youth    high      no     excellent    no\n",
       "2  middle_aged    high      no          fair   yes\n",
       "3       senior  medium      no          fair   yes\n",
       "4       senior     low     yes          fair   yes"
      ]
     },
     "execution_count": 65,
     "metadata": {},
     "output_type": "execute_result"
    }
   ],
   "source": [
    "df.head()"
   ]
  },
  {
   "cell_type": "code",
   "execution_count": 250,
   "metadata": {},
   "outputs": [],
   "source": [
    "def gini_of(df, y, unique_classes):\n",
    "    gini_y = 1\n",
    "    total = len(df)\n",
    "    for class_d in unique_classes[y]:\n",
    "        val = len(df[df[y] == class_d])\n",
    "        gini_y -= (val/total) ** 2\n",
    "    return gini_y\n",
    "\n",
    "def calc_gini(df, y):\n",
    "    unique_classes = {}\n",
    "    total = len(df)\n",
    "    for col in df.columns:\n",
    "        unique_classes[col] = list(df[col].unique())\n",
    "    df_x = df.drop([y], axis=1)\n",
    "    gini_y = gini_of(df, y, unique_classes)\n",
    "    ginis = {}\n",
    "    for column in df_x.columns:\n",
    "        ginis[column] = {'value': 1, 'combination': []}\n",
    "        for combination in combinations(unique_classes[column], len(unique_classes[column]) - 1):\n",
    "            missing_label = list(set(unique_classes[column]) - set(combination))[0]\n",
    "            total_df = [df[df[column] == class_] for class_ in list(combination)]\n",
    "            total_df = pd.concat(total_df)\n",
    "            missing_df = df[df[column] == missing_label]\n",
    "            final_gini = 0\n",
    "            for dfs in [total_df, missing_df]:\n",
    "                count_len = len(dfs)\n",
    "                final_gini += (count_len / total) * gini_of(dfs, y, unique_classes)\n",
    "            if ginis[column]['value'] > final_gini:\n",
    "                comb = [list(combination)]\n",
    "                comb.append([missing_label])\n",
    "                ginis[column] = {'value': final_gini, 'combination': comb}\n",
    "    ret_val = (df_x.columns[0], ginis[df_x.columns[0]]['combination'], ginis[df_x.columns[0]]['value'])\n",
    "    for gin in ginis:\n",
    "        if ret_val[2] > ginis[gin]['value']:\n",
    "            ret_val = (gin, ginis[gin]['combination'], ginis[gin]['value'])\n",
    "    return ret_val\n",
    "        "
   ]
  },
  {
   "cell_type": "code",
   "execution_count": 251,
   "metadata": {},
   "outputs": [
    {
     "data": {
      "text/plain": [
       "('age', [['youth', 'senior'], ['middle_aged']], 0.35714285714285715)"
      ]
     },
     "execution_count": 251,
     "metadata": {},
     "output_type": "execute_result"
    }
   ],
   "source": [
    "calc_gini(df, y='isBuy')"
   ]
  },
  {
   "cell_type": "code",
   "execution_count": 242,
   "metadata": {},
   "outputs": [],
   "source": [
    "a = (0, 1, 2)"
   ]
  },
  {
   "cell_type": "code",
   "execution_count": 243,
   "metadata": {},
   "outputs": [
    {
     "data": {
      "text/plain": [
       "2"
      ]
     },
     "execution_count": 243,
     "metadata": {},
     "output_type": "execute_result"
    }
   ],
   "source": [
    "a[2]"
   ]
  },
  {
   "cell_type": "code",
   "execution_count": null,
   "metadata": {},
   "outputs": [],
   "source": []
  }
 ],
 "metadata": {
  "kernelspec": {
   "display_name": "Python 3",
   "language": "python",
   "name": "python3"
  },
  "language_info": {
   "codemirror_mode": {
    "name": "ipython",
    "version": 3
   },
   "file_extension": ".py",
   "mimetype": "text/x-python",
   "name": "python",
   "nbconvert_exporter": "python",
   "pygments_lexer": "ipython3",
   "version": "3.5.2"
  }
 },
 "nbformat": 4,
 "nbformat_minor": 2
}
