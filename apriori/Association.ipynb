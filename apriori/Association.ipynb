{
 "cells": [
  {
   "cell_type": "markdown",
   "metadata": {},
   "source": [
    "# Association mining using Apriori"
   ]
  },
  {
   "cell_type": "code",
   "execution_count": 57,
   "metadata": {},
   "outputs": [],
   "source": [
    "import numpy as np\n",
    "import pandas as pd\n",
    "import matplotlib.pyplot as plt\n",
    "from itertools import combinations\n",
    "from mlxtend import frequent_patterns\n",
    "\n",
    "%matplotlib inline"
   ]
  },
  {
   "cell_type": "code",
   "execution_count": 58,
   "metadata": {},
   "outputs": [],
   "source": [
    "df = pd.read_csv(\"./dataset.csv\")"
   ]
  },
  {
   "cell_type": "code",
   "execution_count": 59,
   "metadata": {},
   "outputs": [
    {
     "data": {
      "text/html": [
       "<div>\n",
       "<style scoped>\n",
       "    .dataframe tbody tr th:only-of-type {\n",
       "        vertical-align: middle;\n",
       "    }\n",
       "\n",
       "    .dataframe tbody tr th {\n",
       "        vertical-align: top;\n",
       "    }\n",
       "\n",
       "    .dataframe thead th {\n",
       "        text-align: right;\n",
       "    }\n",
       "</style>\n",
       "<table border=\"1\" class=\"dataframe\">\n",
       "  <thead>\n",
       "    <tr style=\"text-align: right;\">\n",
       "      <th></th>\n",
       "      <th>TID</th>\n",
       "      <th>List</th>\n",
       "    </tr>\n",
       "  </thead>\n",
       "  <tbody>\n",
       "    <tr>\n",
       "      <th>0</th>\n",
       "      <td>T100</td>\n",
       "      <td>I1, I2, I5</td>\n",
       "    </tr>\n",
       "    <tr>\n",
       "      <th>1</th>\n",
       "      <td>T200</td>\n",
       "      <td>I2, I4</td>\n",
       "    </tr>\n",
       "    <tr>\n",
       "      <th>2</th>\n",
       "      <td>T300</td>\n",
       "      <td>I2, I3</td>\n",
       "    </tr>\n",
       "    <tr>\n",
       "      <th>3</th>\n",
       "      <td>T400</td>\n",
       "      <td>I1, I2, I4</td>\n",
       "    </tr>\n",
       "    <tr>\n",
       "      <th>4</th>\n",
       "      <td>T500</td>\n",
       "      <td>I1, I3</td>\n",
       "    </tr>\n",
       "  </tbody>\n",
       "</table>\n",
       "</div>"
      ],
      "text/plain": [
       "    TID        List\n",
       "0  T100  I1, I2, I5\n",
       "1  T200      I2, I4\n",
       "2  T300      I2, I3\n",
       "3  T400  I1, I2, I4\n",
       "4  T500      I1, I3"
      ]
     },
     "execution_count": 59,
     "metadata": {},
     "output_type": "execute_result"
    }
   ],
   "source": [
    "df.head()"
   ]
  },
  {
   "cell_type": "code",
   "execution_count": 60,
   "metadata": {},
   "outputs": [],
   "source": [
    "def convertToOnehot(df, col):\n",
    "    return df.join(df[col].str.get_dummies(\", \")).drop([\"List\"], axis=1)"
   ]
  },
  {
   "cell_type": "code",
   "execution_count": 61,
   "metadata": {},
   "outputs": [],
   "source": [
    "def getCount(df, col):\n",
    "    return len(df.loc[df[col] == 1])"
   ]
  },
  {
   "cell_type": "code",
   "execution_count": 62,
   "metadata": {},
   "outputs": [],
   "source": [
    "def combineCols(df, col1, col2):\n",
    "    return (df[col1] & df[col2])"
   ]
  },
  {
   "cell_type": "code",
   "execution_count": 63,
   "metadata": {},
   "outputs": [],
   "source": [
    "def checkForCombinations(combList, combTuple, r):\n",
    "    isPresent = True\n",
    "    for comb in combinations(combTuple, r):\n",
    "        if comb not in combList:\n",
    "            isPresent = False\n",
    "            break\n",
    "    return isPresent"
   ]
  },
  {
   "cell_type": "code",
   "execution_count": 64,
   "metadata": {},
   "outputs": [],
   "source": [
    "def apriori(df, col, s_count):\n",
    "    df = pd.DataFrame(df[col])\n",
    "    df = convertToOnehot(df, col)\n",
    "    items = df.columns\n",
    "    countDf = df.sum()\n",
    "    countDict = countDf.loc[countDf >= s_count].to_dict()\n",
    "    print(countDict)\n",
    "    items = list(countDict.keys())\n",
    "    combHist = []\n",
    "    combPrev = list(combinations(items, 1))\n",
    "    combNext = []\n",
    "    for i in range(2, len(items) - 1):\n",
    "        for comb in combinations(items, i):\n",
    "            if checkForCombinations(combPrev, comb, (i-1)):\n",
    "                combProp = \"_\".join(str(c) for c in comb)\n",
    "                col1 = \"_\".join(str(c) for c in comb[:-1])\n",
    "                col2 = str(comb[-1])\n",
    "                df[combProp] = combineCols(df, col1, col2)\n",
    "                countTemp = getCount(df, combProp)\n",
    "                if countTemp >= s_count:\n",
    "                    combNext.append(comb)\n",
    "                    countDict[combProp] = getCount(df, combProp)\n",
    "        combHist.append(combPrev)\n",
    "        combPrev = combNext\n",
    "    return countDict"
   ]
  },
  {
   "cell_type": "code",
   "execution_count": 65,
   "metadata": {},
   "outputs": [],
   "source": [
    "def getConfidence(items_given, support_items, countDict):\n",
    "    items_given.sort()\n",
    "    support_items = support_items + items_given\n",
    "    support_items.sort()\n",
    "    items_given_str = \"_\".join(items_given)\n",
    "    item_support_str = \"_\".join(support_items)\n",
    "    item_support = item_support_str\n",
    "    items = list(countDict.keys())\n",
    "    if (items_given_str not in items) or (item_support not in items):\n",
    "        return 0\n",
    "    else:\n",
    "        return (countDict[item_support]/ countDict[items_given_str])"
   ]
  },
  {
   "cell_type": "code",
   "execution_count": 66,
   "metadata": {},
   "outputs": [
    {
     "name": "stdout",
     "output_type": "stream",
     "text": [
      "{'I1': 6, 'I2': 7, 'I3': 6, 'I4': 2, 'I5': 2}\n"
     ]
    },
    {
     "data": {
      "text/plain": [
       "0.5"
      ]
     },
     "execution_count": 66,
     "metadata": {},
     "output_type": "execute_result"
    }
   ],
   "source": [
    "countDict = apriori(df, 'List', 2)\n",
    "getConfidence([\"I2\", \"I1\"], [\"I5\"], countDict)"
   ]
  },
  {
   "cell_type": "code",
   "execution_count": 67,
   "metadata": {},
   "outputs": [],
   "source": [
    "elements = [s.split(\"_\") for s in countDict.keys() if len(s) > 2]"
   ]
  },
  {
   "cell_type": "code",
   "execution_count": 68,
   "metadata": {},
   "outputs": [],
   "source": [
    "minConfidence = 0.7"
   ]
  },
  {
   "cell_type": "code",
   "execution_count": 70,
   "metadata": {},
   "outputs": [],
   "source": [
    "def getAllConfidence(elements, countDict, minConfidence):\n",
    "    for element in elements:\n",
    "        for comb in combinations(element, len(element) - 1):\n",
    "            comb = list(comb)\n",
    "            remaining = list(set(element) - set(comb))\n",
    "            if getConfidence(comb, remaining, countDict) > minConfidence:\n",
    "                print(comb,\"->\",remaining, getConfidence(comb, remaining, countDict))\n",
    "            if len(element) > 2 and (getConfidence(remaining, comb, countDict) > minConfidence):\n",
    "                print(remaining,\"->\",comb, getConfidence(remaining, comb, countDict))"
   ]
  },
  {
   "cell_type": "code",
   "execution_count": 71,
   "metadata": {},
   "outputs": [
    {
     "name": "stdout",
     "output_type": "stream",
     "text": [
      "['I5'] -> ['I1'] 1.0\n",
      "['I4'] -> ['I2'] 1.0\n",
      "['I5'] -> ['I2'] 1.0\n",
      "['I5'] -> ['I1', 'I2'] 1.0\n",
      "['I1', 'I5'] -> ['I2'] 1.0\n",
      "['I2', 'I5'] -> ['I1'] 1.0\n"
     ]
    }
   ],
   "source": [
    "getAllConfidence(elements,countDict, 0.7)"
   ]
  },
  {
   "cell_type": "code",
   "execution_count": 22,
   "metadata": {},
   "outputs": [],
   "source": [
    "oneHotDf = convertToOnehot(df, 'List')\n",
    "cols = ['I1', 'I2', 'I3', 'I4', 'I5']\n",
    "oneHotDf[cols] = oneHotDf[cols].astype('bool')"
   ]
  },
  {
   "cell_type": "code",
   "execution_count": 23,
   "metadata": {},
   "outputs": [],
   "source": [
    "oneHotDf = oneHotDf.drop(['TID'], axis=1)"
   ]
  },
  {
   "cell_type": "code",
   "execution_count": 24,
   "metadata": {},
   "outputs": [],
   "source": [
    "freq_itemsets = frequent_patterns.apriori(oneHotDf, min_support=0.20, use_colnames=True)"
   ]
  },
  {
   "cell_type": "code",
   "execution_count": 25,
   "metadata": {},
   "outputs": [
    {
     "data": {
      "text/html": [
       "<div>\n",
       "<style scoped>\n",
       "    .dataframe tbody tr th:only-of-type {\n",
       "        vertical-align: middle;\n",
       "    }\n",
       "\n",
       "    .dataframe tbody tr th {\n",
       "        vertical-align: top;\n",
       "    }\n",
       "\n",
       "    .dataframe thead th {\n",
       "        text-align: right;\n",
       "    }\n",
       "</style>\n",
       "<table border=\"1\" class=\"dataframe\">\n",
       "  <thead>\n",
       "    <tr style=\"text-align: right;\">\n",
       "      <th></th>\n",
       "      <th>antecedants</th>\n",
       "      <th>consequents</th>\n",
       "      <th>antecedent support</th>\n",
       "      <th>consequent support</th>\n",
       "      <th>support</th>\n",
       "      <th>confidence</th>\n",
       "      <th>lift</th>\n",
       "      <th>leverage</th>\n",
       "      <th>conviction</th>\n",
       "    </tr>\n",
       "  </thead>\n",
       "  <tbody>\n",
       "    <tr>\n",
       "      <th>0</th>\n",
       "      <td>(I5)</td>\n",
       "      <td>(I1)</td>\n",
       "      <td>0.222222</td>\n",
       "      <td>0.666667</td>\n",
       "      <td>0.222222</td>\n",
       "      <td>1.0</td>\n",
       "      <td>1.500000</td>\n",
       "      <td>0.074074</td>\n",
       "      <td>inf</td>\n",
       "    </tr>\n",
       "    <tr>\n",
       "      <th>1</th>\n",
       "      <td>(I4)</td>\n",
       "      <td>(I2)</td>\n",
       "      <td>0.222222</td>\n",
       "      <td>0.777778</td>\n",
       "      <td>0.222222</td>\n",
       "      <td>1.0</td>\n",
       "      <td>1.285714</td>\n",
       "      <td>0.049383</td>\n",
       "      <td>inf</td>\n",
       "    </tr>\n",
       "    <tr>\n",
       "      <th>2</th>\n",
       "      <td>(I5)</td>\n",
       "      <td>(I2)</td>\n",
       "      <td>0.222222</td>\n",
       "      <td>0.777778</td>\n",
       "      <td>0.222222</td>\n",
       "      <td>1.0</td>\n",
       "      <td>1.285714</td>\n",
       "      <td>0.049383</td>\n",
       "      <td>inf</td>\n",
       "    </tr>\n",
       "    <tr>\n",
       "      <th>3</th>\n",
       "      <td>(I1, I5)</td>\n",
       "      <td>(I2)</td>\n",
       "      <td>0.222222</td>\n",
       "      <td>0.777778</td>\n",
       "      <td>0.222222</td>\n",
       "      <td>1.0</td>\n",
       "      <td>1.285714</td>\n",
       "      <td>0.049383</td>\n",
       "      <td>inf</td>\n",
       "    </tr>\n",
       "    <tr>\n",
       "      <th>4</th>\n",
       "      <td>(I2, I5)</td>\n",
       "      <td>(I1)</td>\n",
       "      <td>0.222222</td>\n",
       "      <td>0.666667</td>\n",
       "      <td>0.222222</td>\n",
       "      <td>1.0</td>\n",
       "      <td>1.500000</td>\n",
       "      <td>0.074074</td>\n",
       "      <td>inf</td>\n",
       "    </tr>\n",
       "    <tr>\n",
       "      <th>5</th>\n",
       "      <td>(I5)</td>\n",
       "      <td>(I1, I2)</td>\n",
       "      <td>0.222222</td>\n",
       "      <td>0.444444</td>\n",
       "      <td>0.222222</td>\n",
       "      <td>1.0</td>\n",
       "      <td>2.250000</td>\n",
       "      <td>0.123457</td>\n",
       "      <td>inf</td>\n",
       "    </tr>\n",
       "  </tbody>\n",
       "</table>\n",
       "</div>"
      ],
      "text/plain": [
       "  antecedants consequents  antecedent support  consequent support   support  \\\n",
       "0        (I5)        (I1)            0.222222            0.666667  0.222222   \n",
       "1        (I4)        (I2)            0.222222            0.777778  0.222222   \n",
       "2        (I5)        (I2)            0.222222            0.777778  0.222222   \n",
       "3    (I1, I5)        (I2)            0.222222            0.777778  0.222222   \n",
       "4    (I2, I5)        (I1)            0.222222            0.666667  0.222222   \n",
       "5        (I5)    (I1, I2)            0.222222            0.444444  0.222222   \n",
       "\n",
       "   confidence      lift  leverage  conviction  \n",
       "0         1.0  1.500000  0.074074         inf  \n",
       "1         1.0  1.285714  0.049383         inf  \n",
       "2         1.0  1.285714  0.049383         inf  \n",
       "3         1.0  1.285714  0.049383         inf  \n",
       "4         1.0  1.500000  0.074074         inf  \n",
       "5         1.0  2.250000  0.123457         inf  "
      ]
     },
     "execution_count": 25,
     "metadata": {},
     "output_type": "execute_result"
    }
   ],
   "source": [
    "rules = frequent_patterns.association_rules(freq_itemsets, metric=\"confidence\", min_threshold=1)\n",
    "rules[rules.confidence > minConfidence]"
   ]
  },
  {
   "cell_type": "code",
   "execution_count": 73,
   "metadata": {},
   "outputs": [],
   "source": [
    "oneHotDf = oneHotDf.replace([False], '?')"
   ]
  },
  {
   "cell_type": "code",
   "execution_count": 27,
   "metadata": {},
   "outputs": [],
   "source": [
    "oneHotDf.to_csv(\"./dataset_onehot.csv\")"
   ]
  },
  {
   "cell_type": "markdown",
   "metadata": {},
   "source": [
    "## Using Monkey dataset"
   ]
  },
  {
   "cell_type": "code",
   "execution_count": 36,
   "metadata": {},
   "outputs": [],
   "source": [
    "df2 = pd.read_csv('./dataset2.csv')\n",
    "df2 = df2.drop(['TID'], axis=1)"
   ]
  },
  {
   "cell_type": "code",
   "execution_count": 42,
   "metadata": {},
   "outputs": [
    {
     "name": "stdout",
     "output_type": "stream",
     "text": [
      "{'E': 4, 'K': 4, 'M': 3, 'O': 3, 'Y': 3}\n"
     ]
    }
   ],
   "source": [
    "countDict2 = apriori(df2, 'List', 3)"
   ]
  },
  {
   "cell_type": "code",
   "execution_count": 43,
   "metadata": {},
   "outputs": [],
   "source": [
    "elements2 = [s.split(\"_\") for s in countDict2.keys() if len(s) > 2]"
   ]
  },
  {
   "cell_type": "code",
   "execution_count": 72,
   "metadata": {},
   "outputs": [
    {
     "name": "stdout",
     "output_type": "stream",
     "text": [
      "['E'] -> ['K'] 1.0\n",
      "['K'] -> ['E'] 1.0\n",
      "['E'] -> ['O'] 0.75\n",
      "['O'] -> ['E'] 1.0\n",
      "['K'] -> ['O'] 0.75\n",
      "['O'] -> ['K'] 1.0\n",
      "['E', 'K'] -> ['O'] 0.75\n",
      "['O'] -> ['E', 'K'] 1.0\n",
      "['E', 'O'] -> ['K'] 1.0\n",
      "['K'] -> ['E', 'O'] 0.75\n",
      "['K', 'O'] -> ['E'] 1.0\n",
      "['E'] -> ['K', 'O'] 0.75\n"
     ]
    }
   ],
   "source": [
    "getAllConfidence(elements2, countDict2, 0.7)"
   ]
  },
  {
   "cell_type": "code",
   "execution_count": 74,
   "metadata": {},
   "outputs": [
    {
     "data": {
      "text/plain": [
       "{'E': 4,\n",
       " 'E_K': 4,\n",
       " 'E_K_O': 3,\n",
       " 'E_O': 3,\n",
       " 'K': 4,\n",
       " 'K_O': 3,\n",
       " 'M': 3,\n",
       " 'O': 3,\n",
       " 'Y': 3}"
      ]
     },
     "execution_count": 74,
     "metadata": {},
     "output_type": "execute_result"
    }
   ],
   "source": [
    "countDict2"
   ]
  },
  {
   "cell_type": "code",
   "execution_count": null,
   "metadata": {},
   "outputs": [],
   "source": []
  }
 ],
 "metadata": {
  "kernelspec": {
   "display_name": "Python 3",
   "language": "python",
   "name": "python3"
  },
  "language_info": {
   "codemirror_mode": {
    "name": "ipython",
    "version": 3
   },
   "file_extension": ".py",
   "mimetype": "text/x-python",
   "name": "python",
   "nbconvert_exporter": "python",
   "pygments_lexer": "ipython3",
   "version": "3.6.4"
  }
 },
 "nbformat": 4,
 "nbformat_minor": 2
}
